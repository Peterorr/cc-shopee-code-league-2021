{
 "cells": [
  {
   "cell_type": "code",
   "execution_count": 1,
   "metadata": {},
   "outputs": [],
   "source": [
    "import json\n",
    "import pandas as pd"
   ]
  },
  {
   "cell_type": "code",
   "execution_count": 2,
   "metadata": {},
   "outputs": [],
   "source": [
    "# Opening JSON file \n",
    "f = open('contacts.json',) \n",
    "  \n",
    "# returns JSON object as a dictionary \n",
    "#data = json.load(f) \n",
    "data = [\n",
    "    {'Id': '0', 'Email': 'Wick', 'Phone': '', 'OrderId': '', 'Contacts': '3'},\n",
    "    {'Id': '1', 'Email': 'John', 'Phone': '', 'OrderId': '12345678', 'Contacts': '5'},\n",
    "    {'Id': '8', 'Email': 'Chan', 'Phone': '782212345', 'OrderId': '', 'Contacts': '4'},\n",
    "    {'Id': '34567', 'Email': '', 'Phone': '682212345', 'OrderId': '12345678', 'Contacts': '2'},\n",
    "    {'Id': '78999', 'Email': 'Wick', 'Phone': '682212345', 'OrderId': '', 'Contacts': '4'},\n",
    "    {'Id': '80000', 'Email': 'Dada', 'Phone': '', 'OrderId': '', 'Contacts': '3'},\n",
    "    {'Id': '80001', 'Email': 'Chan', 'Phone': '', 'OrderId': '87654321', 'Contacts': '5'},\n",
    "    {'Id': '80002', 'Email': '', 'Phone': '782212345', 'OrderId': '87654321', 'Contacts': '2'},\n",
    "]"
   ]
  },
  {
   "cell_type": "code",
   "execution_count": 3,
   "metadata": {},
   "outputs": [
    {
     "data": {
      "text/plain": [
       "list"
      ]
     },
     "execution_count": 3,
     "metadata": {},
     "output_type": "execute_result"
    }
   ],
   "source": [
    "type(data)"
   ]
  },
  {
   "cell_type": "code",
   "execution_count": 13,
   "metadata": {},
   "outputs": [
    {
     "data": {
      "text/plain": [
       "[{'Id': '0', 'Email': 'Wick', 'Phone': '', 'OrderId': '', 'Contacts': '3'},\n",
       " {'Id': '1',\n",
       "  'Email': 'John',\n",
       "  'Phone': '',\n",
       "  'OrderId': '12345678',\n",
       "  'Contacts': '5'},\n",
       " {'Id': '8',\n",
       "  'Email': 'Chan',\n",
       "  'Phone': '782212345',\n",
       "  'OrderId': '',\n",
       "  'Contacts': '4'},\n",
       " {'Id': '34567',\n",
       "  'Email': '',\n",
       "  'Phone': '682212345',\n",
       "  'OrderId': '12345678',\n",
       "  'Contacts': '2'},\n",
       " {'Id': '78999',\n",
       "  'Email': 'Wick',\n",
       "  'Phone': '682212345',\n",
       "  'OrderId': '',\n",
       "  'Contacts': '4'},\n",
       " {'Id': '80000', 'Email': 'Dada', 'Phone': '', 'OrderId': '', 'Contacts': '3'},\n",
       " {'Id': '80001',\n",
       "  'Email': 'Chan',\n",
       "  'Phone': '',\n",
       "  'OrderId': '87654321',\n",
       "  'Contacts': '5'},\n",
       " {'Id': '80002',\n",
       "  'Email': '',\n",
       "  'Phone': '782212345',\n",
       "  'OrderId': '87654321',\n",
       "  'Contacts': '2'}]"
      ]
     },
     "execution_count": 13,
     "metadata": {},
     "output_type": "execute_result"
    }
   ],
   "source": [
    "data"
   ]
  },
  {
   "cell_type": "code",
   "execution_count": 5,
   "metadata": {},
   "outputs": [
    {
     "data": {
      "text/html": [
       "<div>\n",
       "<style scoped>\n",
       "    .dataframe tbody tr th:only-of-type {\n",
       "        vertical-align: middle;\n",
       "    }\n",
       "\n",
       "    .dataframe tbody tr th {\n",
       "        vertical-align: top;\n",
       "    }\n",
       "\n",
       "    .dataframe thead th {\n",
       "        text-align: right;\n",
       "    }\n",
       "</style>\n",
       "<table border=\"1\" class=\"dataframe\">\n",
       "  <thead>\n",
       "    <tr style=\"text-align: right;\">\n",
       "      <th></th>\n",
       "      <th>Id</th>\n",
       "      <th>Email</th>\n",
       "      <th>Phone</th>\n",
       "      <th>OrderId</th>\n",
       "      <th>Contacts</th>\n",
       "    </tr>\n",
       "  </thead>\n",
       "  <tbody>\n",
       "    <tr>\n",
       "      <th>0</th>\n",
       "      <td>0</td>\n",
       "      <td>Wick</td>\n",
       "      <td></td>\n",
       "      <td></td>\n",
       "      <td>3</td>\n",
       "    </tr>\n",
       "    <tr>\n",
       "      <th>1</th>\n",
       "      <td>1</td>\n",
       "      <td>John</td>\n",
       "      <td></td>\n",
       "      <td>12345678</td>\n",
       "      <td>5</td>\n",
       "    </tr>\n",
       "    <tr>\n",
       "      <th>2</th>\n",
       "      <td>8</td>\n",
       "      <td>Chan</td>\n",
       "      <td>782212345</td>\n",
       "      <td></td>\n",
       "      <td>4</td>\n",
       "    </tr>\n",
       "    <tr>\n",
       "      <th>3</th>\n",
       "      <td>34567</td>\n",
       "      <td></td>\n",
       "      <td>682212345</td>\n",
       "      <td>12345678</td>\n",
       "      <td>2</td>\n",
       "    </tr>\n",
       "    <tr>\n",
       "      <th>4</th>\n",
       "      <td>78999</td>\n",
       "      <td>Wick</td>\n",
       "      <td>682212345</td>\n",
       "      <td></td>\n",
       "      <td>4</td>\n",
       "    </tr>\n",
       "    <tr>\n",
       "      <th>5</th>\n",
       "      <td>80000</td>\n",
       "      <td>Dada</td>\n",
       "      <td></td>\n",
       "      <td></td>\n",
       "      <td>3</td>\n",
       "    </tr>\n",
       "    <tr>\n",
       "      <th>6</th>\n",
       "      <td>80001</td>\n",
       "      <td>Chan</td>\n",
       "      <td></td>\n",
       "      <td>87654321</td>\n",
       "      <td>5</td>\n",
       "    </tr>\n",
       "    <tr>\n",
       "      <th>7</th>\n",
       "      <td>80002</td>\n",
       "      <td></td>\n",
       "      <td>782212345</td>\n",
       "      <td>87654321</td>\n",
       "      <td>2</td>\n",
       "    </tr>\n",
       "  </tbody>\n",
       "</table>\n",
       "</div>"
      ],
      "text/plain": [
       "      Id Email      Phone   OrderId Contacts\n",
       "0      0  Wick                             3\n",
       "1      1  John             12345678        5\n",
       "2      8  Chan  782212345                  4\n",
       "3  34567        682212345  12345678        2\n",
       "4  78999  Wick  682212345                  4\n",
       "5  80000  Dada                             3\n",
       "6  80001  Chan             87654321        5\n",
       "7  80002        782212345  87654321        2"
      ]
     },
     "execution_count": 5,
     "metadata": {},
     "output_type": "execute_result"
    }
   ],
   "source": [
    "df = pd.DataFrame(data)\n",
    "df"
   ]
  },
  {
   "cell_type": "code",
   "execution_count": 6,
   "metadata": {},
   "outputs": [
    {
     "name": "stdout",
     "output_type": "stream",
     "text": [
      "[['8', '80001'], ['80000'], ['1'], ['0', '78999']]\n",
      "[['34567', '78999'], ['8', '80002']]\n",
      "[['1', '34567'], ['80001', '80002']]\n",
      "[['8', '80001'], ['80000'], ['1'], ['0', '78999'], ['34567', '78999'], ['8', '80002'], ['1', '34567'], ['80001', '80002']]\n"
     ]
    }
   ],
   "source": [
    "#df1 = df.groupby('Email').agg(lambda x: list(x))\n",
    "#df1\n",
    "\n",
    "df1 = df.groupby('Email')['Id'].apply(list).reset_index(name='new')\n",
    "df1\n",
    "product1 = df1['new'].values.tolist()\n",
    "del product1[0] \n",
    "print (product1)\n",
    "\n",
    "df2 = df.groupby('Phone')['Id'].apply(list).reset_index(name='new')\n",
    "df2\n",
    "product2 = df2['new'].values.tolist()\n",
    "del product2[0] \n",
    "print (product2)\n",
    "\n",
    "df3 = df.groupby('OrderId')['Id'].apply(list).reset_index(name='new')\n",
    "df3\n",
    "product3 = df3['new'].values.tolist()\n",
    "#print (product)\n",
    "del product3[0] \n",
    "print (product3)\n",
    "\n",
    "\n",
    "joinedlist = product1 + product2 + product3\n",
    "print (joinedlist)\n",
    "        "
   ]
  },
  {
   "cell_type": "code",
   "execution_count": 7,
   "metadata": {},
   "outputs": [
    {
     "name": "stdout",
     "output_type": "stream",
     "text": [
      "[['8', '80001'], ['80000'], ['1'], ['0', '78999'], ['34567', '78999'], ['8', '80002'], ['1', '34567'], ['80001', '80002']]\n"
     ]
    }
   ],
   "source": [
    "joinedlist = product1 + product2 + product3\n",
    "print (joinedlist)"
   ]
  },
  {
   "cell_type": "code",
   "execution_count": 9,
   "metadata": {},
   "outputs": [
    {
     "name": "stdout",
     "output_type": "stream",
     "text": [
      "[['1']]\n",
      "[['8', '80001'], ['0', '78999'], ['34567', '78999'], ['8', '80002'], ['1', '34567'], ['80001', '80002']]\n"
     ]
    }
   ],
   "source": [
    "unique = []\n",
    "combine = []\n",
    "for x in range(len(joinedlist)):\n",
    "    if len(joinedlist[x]) == 1:\n",
    "        unique.append(joinedlist[x]) \n",
    "    else:\n",
    "        combine.append(joinedlist[x]) \n",
    "\n",
    "print(unique)\n",
    "print(combine)"
   ]
  },
  {
   "cell_type": "code",
   "execution_count": 12,
   "metadata": {},
   "outputs": [
    {
     "name": "stdout",
     "output_type": "stream",
     "text": [
      "[('80002', '80001', '8'), ('34567', '0', '78999'), ('0', '34567', '78999'), ('34567', '1', '78999')]\n"
     ]
    }
   ],
   "source": [
    "temp = []\n",
    "for i,_ in enumerate(combine):\n",
    "    for j,_ in enumerate(combine):\n",
    "        if i!= j and len(set(combine[i])&set(combine[j])) != 0:\n",
    "            temp.append(list(set(combine[i])|set(combine[j])))\n",
    "\n",
    "temp = list(set(map(tuple,temp)))\n",
    "print(temp)\n"
   ]
  }
 ],
 "metadata": {
  "kernelspec": {
   "display_name": "Python 3",
   "language": "python",
   "name": "python3"
  },
  "language_info": {
   "codemirror_mode": {
    "name": "ipython",
    "version": 3
   },
   "file_extension": ".py",
   "mimetype": "text/x-python",
   "name": "python",
   "nbconvert_exporter": "python",
   "pygments_lexer": "ipython3",
   "version": "3.8.2"
  }
 },
 "nbformat": 4,
 "nbformat_minor": 4
}
